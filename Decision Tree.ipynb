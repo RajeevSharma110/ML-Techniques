{
 "cells": [
  {
   "cell_type": "code",
   "execution_count": 1,
   "id": "subject-findings",
   "metadata": {},
   "outputs": [
    {
     "name": "stdout",
     "output_type": "stream",
     "text": [
      "['computer science']\n",
      "['art']\n"
     ]
    }
   ],
   "source": [
    "## Dependencies\n",
    "import numpy as np\n",
    "from sklearn import tree\n",
    "\n",
    "\n",
    "## Data: student scores in (math, language, creativity) --> study field\n",
    "X = np.array([[9, 5, 6, \"computer science\"],\n",
    "              [1, 8, 1, \"literature\"],\n",
    "              [5, 7, 9, \"art\"],\n",
    "              [10, 5, 6, \"computer science\"],\n",
    "              [1, 10, 1, \"literature\"],\n",
    "              [5, 7, 10, \"art\"]])\n",
    "\n",
    "\n",
    "## One-liner\n",
    "Tree = tree.DecisionTreeClassifier().fit(X[:,:-1], X[:,-1])\n",
    "\n",
    "## Result & puzzle\n",
    "student_0 = Tree.predict([[8, 6, 5]])\n",
    "print(student_0)\n",
    "\n",
    "student_1 = Tree.predict([[3, 7, 9]])\n",
    "print(student_1)"
   ]
  },
  {
   "cell_type": "code",
   "execution_count": null,
   "id": "packed-stylus",
   "metadata": {},
   "outputs": [],
   "source": []
  }
 ],
 "metadata": {
  "kernelspec": {
   "display_name": "Python 3",
   "language": "python",
   "name": "python3"
  },
  "language_info": {
   "codemirror_mode": {
    "name": "ipython",
    "version": 3
   },
   "file_extension": ".py",
   "mimetype": "text/x-python",
   "name": "python",
   "nbconvert_exporter": "python",
   "pygments_lexer": "ipython3",
   "version": "3.7.10"
  }
 },
 "nbformat": 4,
 "nbformat_minor": 5
}
